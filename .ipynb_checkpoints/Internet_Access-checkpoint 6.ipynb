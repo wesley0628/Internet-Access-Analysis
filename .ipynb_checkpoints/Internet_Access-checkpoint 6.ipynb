{
 "cells": [
  {
   "cell_type": "code",
   "execution_count": 1,
   "metadata": {
    "pycharm": {
     "name": "#%%\n"
    }
   },
   "outputs": [],
   "source": [
    "# author: Zhuocheng Sun, Yueyu Wang\n",
    "# instructor: Tyler Caraza-Harter\n",
    "\n",
    "from shapely.geometry import Point, Polygon\n",
    "import shapefile as shp\n",
    "import seaborn as sns\n",
    "import numpy as np\n",
    "import matplotlib.pyplot as plt\n",
    "import geopandas as gpd\n",
    "import pandas as pd\n",
    "import contextily as ctx\n",
    "from sklearn.linear_model import LinearRegression\n",
    "from sklearn.pipeline import Pipeline\n",
    "from sklearn.preprocessing import StandardScaler"
   ]
  },
  {
   "cell_type": "code",
   "execution_count": 2,
   "metadata": {
    "pycharm": {
     "name": "#%%\n"
    }
   },
   "outputs": [
    {
     "ename": "FileNotFoundError",
     "evalue": "[Errno 2] File apartments.csv does not exist: 'apartments.csv'",
     "output_type": "error",
     "traceback": [
      "\u001b[0;31m---------------------------------------------------------------------------\u001b[0m",
      "\u001b[0;31mFileNotFoundError\u001b[0m                         Traceback (most recent call last)",
      "\u001b[0;32m<ipython-input-2-83ff41c8f94e>\u001b[0m in \u001b[0;36m<module>\u001b[0;34m\u001b[0m\n\u001b[0;32m----> 1\u001b[0;31m \u001b[0mdf\u001b[0m \u001b[0;34m=\u001b[0m \u001b[0mpd\u001b[0m\u001b[0;34m.\u001b[0m\u001b[0mread_csv\u001b[0m\u001b[0;34m(\u001b[0m\u001b[0;34m\"apartments.csv\"\u001b[0m\u001b[0;34m)\u001b[0m\u001b[0;34m\u001b[0m\u001b[0;34m\u001b[0m\u001b[0m\n\u001b[0m\u001b[1;32m      2\u001b[0m \u001b[0mpts_col\u001b[0m \u001b[0;34m=\u001b[0m \u001b[0;34m[\u001b[0m\u001b[0;34m]\u001b[0m\u001b[0;34m\u001b[0m\u001b[0;34m\u001b[0m\u001b[0m\n\u001b[1;32m      3\u001b[0m \u001b[0;34m\u001b[0m\u001b[0m\n\u001b[1;32m      4\u001b[0m \u001b[0mdf\u001b[0m \u001b[0;34m=\u001b[0m \u001b[0mdf\u001b[0m\u001b[0;34m[\u001b[0m\u001b[0mdf\u001b[0m\u001b[0;34m[\u001b[0m\u001b[0;34m\"PropertyClass\"\u001b[0m\u001b[0;34m]\u001b[0m \u001b[0;34m==\u001b[0m \u001b[0;34m\"Residential\"\u001b[0m\u001b[0;34m]\u001b[0m\u001b[0;34m\u001b[0m\u001b[0;34m\u001b[0m\u001b[0m\n\u001b[1;32m      5\u001b[0m \u001b[0;34m\u001b[0m\u001b[0m\n",
      "\u001b[0;32m/opt/anaconda3/lib/python3.8/site-packages/pandas/io/parsers.py\u001b[0m in \u001b[0;36mparser_f\u001b[0;34m(filepath_or_buffer, sep, delimiter, header, names, index_col, usecols, squeeze, prefix, mangle_dupe_cols, dtype, engine, converters, true_values, false_values, skipinitialspace, skiprows, skipfooter, nrows, na_values, keep_default_na, na_filter, verbose, skip_blank_lines, parse_dates, infer_datetime_format, keep_date_col, date_parser, dayfirst, cache_dates, iterator, chunksize, compression, thousands, decimal, lineterminator, quotechar, quoting, doublequote, escapechar, comment, encoding, dialect, error_bad_lines, warn_bad_lines, delim_whitespace, low_memory, memory_map, float_precision)\u001b[0m\n\u001b[1;32m    674\u001b[0m         )\n\u001b[1;32m    675\u001b[0m \u001b[0;34m\u001b[0m\u001b[0m\n\u001b[0;32m--> 676\u001b[0;31m         \u001b[0;32mreturn\u001b[0m \u001b[0m_read\u001b[0m\u001b[0;34m(\u001b[0m\u001b[0mfilepath_or_buffer\u001b[0m\u001b[0;34m,\u001b[0m \u001b[0mkwds\u001b[0m\u001b[0;34m)\u001b[0m\u001b[0;34m\u001b[0m\u001b[0;34m\u001b[0m\u001b[0m\n\u001b[0m\u001b[1;32m    677\u001b[0m \u001b[0;34m\u001b[0m\u001b[0m\n\u001b[1;32m    678\u001b[0m     \u001b[0mparser_f\u001b[0m\u001b[0;34m.\u001b[0m\u001b[0m__name__\u001b[0m \u001b[0;34m=\u001b[0m \u001b[0mname\u001b[0m\u001b[0;34m\u001b[0m\u001b[0;34m\u001b[0m\u001b[0m\n",
      "\u001b[0;32m/opt/anaconda3/lib/python3.8/site-packages/pandas/io/parsers.py\u001b[0m in \u001b[0;36m_read\u001b[0;34m(filepath_or_buffer, kwds)\u001b[0m\n\u001b[1;32m    446\u001b[0m \u001b[0;34m\u001b[0m\u001b[0m\n\u001b[1;32m    447\u001b[0m     \u001b[0;31m# Create the parser.\u001b[0m\u001b[0;34m\u001b[0m\u001b[0;34m\u001b[0m\u001b[0;34m\u001b[0m\u001b[0m\n\u001b[0;32m--> 448\u001b[0;31m     \u001b[0mparser\u001b[0m \u001b[0;34m=\u001b[0m \u001b[0mTextFileReader\u001b[0m\u001b[0;34m(\u001b[0m\u001b[0mfp_or_buf\u001b[0m\u001b[0;34m,\u001b[0m \u001b[0;34m**\u001b[0m\u001b[0mkwds\u001b[0m\u001b[0;34m)\u001b[0m\u001b[0;34m\u001b[0m\u001b[0;34m\u001b[0m\u001b[0m\n\u001b[0m\u001b[1;32m    449\u001b[0m \u001b[0;34m\u001b[0m\u001b[0m\n\u001b[1;32m    450\u001b[0m     \u001b[0;32mif\u001b[0m \u001b[0mchunksize\u001b[0m \u001b[0;32mor\u001b[0m \u001b[0miterator\u001b[0m\u001b[0;34m:\u001b[0m\u001b[0;34m\u001b[0m\u001b[0;34m\u001b[0m\u001b[0m\n",
      "\u001b[0;32m/opt/anaconda3/lib/python3.8/site-packages/pandas/io/parsers.py\u001b[0m in \u001b[0;36m__init__\u001b[0;34m(self, f, engine, **kwds)\u001b[0m\n\u001b[1;32m    878\u001b[0m             \u001b[0mself\u001b[0m\u001b[0;34m.\u001b[0m\u001b[0moptions\u001b[0m\u001b[0;34m[\u001b[0m\u001b[0;34m\"has_index_names\"\u001b[0m\u001b[0;34m]\u001b[0m \u001b[0;34m=\u001b[0m \u001b[0mkwds\u001b[0m\u001b[0;34m[\u001b[0m\u001b[0;34m\"has_index_names\"\u001b[0m\u001b[0;34m]\u001b[0m\u001b[0;34m\u001b[0m\u001b[0;34m\u001b[0m\u001b[0m\n\u001b[1;32m    879\u001b[0m \u001b[0;34m\u001b[0m\u001b[0m\n\u001b[0;32m--> 880\u001b[0;31m         \u001b[0mself\u001b[0m\u001b[0;34m.\u001b[0m\u001b[0m_make_engine\u001b[0m\u001b[0;34m(\u001b[0m\u001b[0mself\u001b[0m\u001b[0;34m.\u001b[0m\u001b[0mengine\u001b[0m\u001b[0;34m)\u001b[0m\u001b[0;34m\u001b[0m\u001b[0;34m\u001b[0m\u001b[0m\n\u001b[0m\u001b[1;32m    881\u001b[0m \u001b[0;34m\u001b[0m\u001b[0m\n\u001b[1;32m    882\u001b[0m     \u001b[0;32mdef\u001b[0m \u001b[0mclose\u001b[0m\u001b[0;34m(\u001b[0m\u001b[0mself\u001b[0m\u001b[0;34m)\u001b[0m\u001b[0;34m:\u001b[0m\u001b[0;34m\u001b[0m\u001b[0;34m\u001b[0m\u001b[0m\n",
      "\u001b[0;32m/opt/anaconda3/lib/python3.8/site-packages/pandas/io/parsers.py\u001b[0m in \u001b[0;36m_make_engine\u001b[0;34m(self, engine)\u001b[0m\n\u001b[1;32m   1112\u001b[0m     \u001b[0;32mdef\u001b[0m \u001b[0m_make_engine\u001b[0m\u001b[0;34m(\u001b[0m\u001b[0mself\u001b[0m\u001b[0;34m,\u001b[0m \u001b[0mengine\u001b[0m\u001b[0;34m=\u001b[0m\u001b[0;34m\"c\"\u001b[0m\u001b[0;34m)\u001b[0m\u001b[0;34m:\u001b[0m\u001b[0;34m\u001b[0m\u001b[0;34m\u001b[0m\u001b[0m\n\u001b[1;32m   1113\u001b[0m         \u001b[0;32mif\u001b[0m \u001b[0mengine\u001b[0m \u001b[0;34m==\u001b[0m \u001b[0;34m\"c\"\u001b[0m\u001b[0;34m:\u001b[0m\u001b[0;34m\u001b[0m\u001b[0;34m\u001b[0m\u001b[0m\n\u001b[0;32m-> 1114\u001b[0;31m             \u001b[0mself\u001b[0m\u001b[0;34m.\u001b[0m\u001b[0m_engine\u001b[0m \u001b[0;34m=\u001b[0m \u001b[0mCParserWrapper\u001b[0m\u001b[0;34m(\u001b[0m\u001b[0mself\u001b[0m\u001b[0;34m.\u001b[0m\u001b[0mf\u001b[0m\u001b[0;34m,\u001b[0m \u001b[0;34m**\u001b[0m\u001b[0mself\u001b[0m\u001b[0;34m.\u001b[0m\u001b[0moptions\u001b[0m\u001b[0;34m)\u001b[0m\u001b[0;34m\u001b[0m\u001b[0;34m\u001b[0m\u001b[0m\n\u001b[0m\u001b[1;32m   1115\u001b[0m         \u001b[0;32melse\u001b[0m\u001b[0;34m:\u001b[0m\u001b[0;34m\u001b[0m\u001b[0;34m\u001b[0m\u001b[0m\n\u001b[1;32m   1116\u001b[0m             \u001b[0;32mif\u001b[0m \u001b[0mengine\u001b[0m \u001b[0;34m==\u001b[0m \u001b[0;34m\"python\"\u001b[0m\u001b[0;34m:\u001b[0m\u001b[0;34m\u001b[0m\u001b[0;34m\u001b[0m\u001b[0m\n",
      "\u001b[0;32m/opt/anaconda3/lib/python3.8/site-packages/pandas/io/parsers.py\u001b[0m in \u001b[0;36m__init__\u001b[0;34m(self, src, **kwds)\u001b[0m\n\u001b[1;32m   1889\u001b[0m         \u001b[0mkwds\u001b[0m\u001b[0;34m[\u001b[0m\u001b[0;34m\"usecols\"\u001b[0m\u001b[0;34m]\u001b[0m \u001b[0;34m=\u001b[0m \u001b[0mself\u001b[0m\u001b[0;34m.\u001b[0m\u001b[0musecols\u001b[0m\u001b[0;34m\u001b[0m\u001b[0;34m\u001b[0m\u001b[0m\n\u001b[1;32m   1890\u001b[0m \u001b[0;34m\u001b[0m\u001b[0m\n\u001b[0;32m-> 1891\u001b[0;31m         \u001b[0mself\u001b[0m\u001b[0;34m.\u001b[0m\u001b[0m_reader\u001b[0m \u001b[0;34m=\u001b[0m \u001b[0mparsers\u001b[0m\u001b[0;34m.\u001b[0m\u001b[0mTextReader\u001b[0m\u001b[0;34m(\u001b[0m\u001b[0msrc\u001b[0m\u001b[0;34m,\u001b[0m \u001b[0;34m**\u001b[0m\u001b[0mkwds\u001b[0m\u001b[0;34m)\u001b[0m\u001b[0;34m\u001b[0m\u001b[0;34m\u001b[0m\u001b[0m\n\u001b[0m\u001b[1;32m   1892\u001b[0m         \u001b[0mself\u001b[0m\u001b[0;34m.\u001b[0m\u001b[0munnamed_cols\u001b[0m \u001b[0;34m=\u001b[0m \u001b[0mself\u001b[0m\u001b[0;34m.\u001b[0m\u001b[0m_reader\u001b[0m\u001b[0;34m.\u001b[0m\u001b[0munnamed_cols\u001b[0m\u001b[0;34m\u001b[0m\u001b[0;34m\u001b[0m\u001b[0m\n\u001b[1;32m   1893\u001b[0m \u001b[0;34m\u001b[0m\u001b[0m\n",
      "\u001b[0;32mpandas/_libs/parsers.pyx\u001b[0m in \u001b[0;36mpandas._libs.parsers.TextReader.__cinit__\u001b[0;34m()\u001b[0m\n",
      "\u001b[0;32mpandas/_libs/parsers.pyx\u001b[0m in \u001b[0;36mpandas._libs.parsers.TextReader._setup_parser_source\u001b[0;34m()\u001b[0m\n",
      "\u001b[0;31mFileNotFoundError\u001b[0m: [Errno 2] File apartments.csv does not exist: 'apartments.csv'"
     ]
    }
   ],
   "source": [
    "df = pd.read_csv(\"apartments.csv\")\n",
    "pts_col = []\n",
    "\n",
    "df = df[df[\"PropertyClass\"] == \"Residential\"]\n",
    "\n",
    "for pt in df[[\"XCoord\", \"YCoord\"]].itertuples():\n",
    "    pts_col.append(Point(pt.XCoord, pt.YCoord))\n",
    "df[\"geometry\"] = pts_col\n",
    "df = df[[\"Address\", \"PropertyUse\", \"Bedrooms\", \"geometry\", \"XCoord\", \"YCoord\"]]\n",
    "\n",
    "df[\"Bedrooms\"] = df[\"Bedrooms\"]  + 0.01 # add a small value to handle 0 bedroom cases.\n",
    "df = gpd.GeoDataFrame(df)\n",
    "df = df.set_crs(\"esri:103412\")\n",
    "df = df.to_crs(epsg=4326)\n",
    "\n",
    "df = df[[\"Address\", \"PropertyUse\", \"Bedrooms\", \"geometry\", \"XCoord\", \"YCoord\"]]\n",
    "\n",
    "df.head()"
   ]
  },
  {
   "cell_type": "markdown",
   "metadata": {},
   "source": [
    "### Generally, 18 year-olds could be either 12th-grade students or college freshmen. Since we found many data entries with majorities of 18-19 year-olds, and many of those properties are located near UW campus, we think it makes more sense to regard them as college students rather than 12th-grade students. Thus, for simplicity, we only count 5 to 17 year-olds as K-12 student in this notebook."
   ]
  },
  {
   "cell_type": "code",
   "execution_count": null,
   "metadata": {
    "pycharm": {
     "name": "#%%\n"
    }
   },
   "outputs": [],
   "source": [
    "census_df = pd.read_csv(\"census_by_block_2010/sex_age.csv\")\n",
    "census_df[\"GEO_ID\"] = census_df[\"GEO_ID\"]\n",
    "census_df = census_df[[\"GEO_ID\", \"NAME\", \"P012001\", \"P012004\", \"P012005\", \"P012006\", \"P012028\", \"P012029\", \"P012030\"]]\n",
    "census_df = census_df.rename(columns = {\"NAME\":\"Area\", \"P012001\": \"Total_people\", \"P012004\": \"5-9yrMale\", \"P012005\": \"10-14yrMale\", \"P012006\": \"15-17yrMale\", \"P012028\": \"5-9yrFemale\", \"P012029\": \"10-14yrFemale\", \"P012030\": \"15-17yrFemale\"}, inplace=False)\n",
    "census_df = census_df[1:]\n",
    "census_df[\"Total_people\"] = census_df[\"Total_people\"].astype(int)\n",
    "census_df[\"5-9yr\"] = census_df[\"5-9yrMale\"].astype(int) + census_df[\"5-9yrFemale\"].astype(int)\n",
    "census_df[\"10-14yr\"] = census_df[\"10-14yrMale\"].astype(int) + census_df[\"10-14yrFemale\"].astype(int)\n",
    "census_df[\"15-17yr\"] = census_df[\"15-17yrMale\"].astype(int) + census_df[\"15-17yrFemale\"].astype(int)\n",
    "\n",
    "census_df[\"Total_K-12_block\"] = census_df[\"5-9yr\"] + census_df[\"10-14yr\"] + census_df[\"15-17yr\"]\n",
    "census_df = census_df[census_df[\"Total_K-12_block\"] != 0]\n",
    "census_df.head()"
   ]
  },
  {
   "cell_type": "code",
   "execution_count": null,
   "metadata": {
    "pycharm": {
     "name": "#%%\n"
    }
   },
   "outputs": [],
   "source": [
    "# spatial join - take dataset A + dataset B = dataset AB, based on space/geographic relationship\n",
    "# two datasets must have a matched CRS: coordinate reference system\n",
    "\n",
    "dane = gpd.read_file(\"dane/dane.shp\")\n",
    "dane[\"GEO_ID\"] = \"1000000US\" + dane[\"GEOID20\"]\n",
    "dane.head()"
   ]
  },
  {
   "cell_type": "code",
   "execution_count": null,
   "metadata": {
    "pycharm": {
     "name": "#%%\n"
    }
   },
   "outputs": [],
   "source": [
    "dane.to_crs(df.crs, inplace=True)\n",
    "dane['area'] = dane.to_crs(epsg=3857).area/2.59e+06\n",
    "block_with_apartment = gpd.sjoin(df, dane, how=\"left\", op=\"within\")\n",
    "block_with_apartment = block_with_apartment[['Address', 'PropertyUse','Bedrooms','geometry', \"XCoord\", \"YCoord\",  'GEO_ID', 'area']]\n",
    "block_with_apartment.head()"
   ]
  },
  {
   "cell_type": "markdown",
   "metadata": {},
   "source": [
    "#### We now have census data for each block in Madison. To estimate the number of K-12 students in each property, we think using the formula: K-12_est = (number of bedrooms in a property) * (number of K-12 students in the block)/ (number of bedrooms in the block) is a good approach for now."
   ]
  },
  {
   "cell_type": "code",
   "execution_count": null,
   "metadata": {
    "pycharm": {
     "name": "#%%\n"
    }
   },
   "outputs": [],
   "source": [
    "merged = pd.merge(block_with_apartment, census_df, on=\"GEO_ID\")\n",
    "merged = merged[[\"Area\",\"Address\", \"PropertyUse\", \"Bedrooms\", \"geometry\", \"XCoord\", \"YCoord\", \"Total_people\", \"Total_K-12_block\", \"GEO_ID\", \"area\"]]\n",
    "merged['BlockBedrooms'] = merged.groupby(['GEO_ID']).Bedrooms.transform('sum')"
   ]
  },
  {
   "cell_type": "code",
   "execution_count": null,
   "metadata": {
    "pycharm": {
     "name": "#%%\n"
    }
   },
   "outputs": [],
   "source": [
    "merged[\"K12_est\"] = merged[\"Total_K-12_block\"] * merged[\"Bedrooms\"] / merged[\"BlockBedrooms\"]\n",
    "K12_df = merged"
   ]
  },
  {
   "cell_type": "code",
   "execution_count": null,
   "metadata": {
    "pycharm": {
     "name": "#%%\n"
    }
   },
   "outputs": [],
   "source": [
    "madison = gpd.sjoin(K12_df, dane, how=\"right\", op=\"within\")\n",
    "madison = madison[madison[\"Total_K-12_block\"] >= 0]\n",
    "madison = madison.to_crs(epsg=3857)\n",
    "ax = madison.plot(figsize=(20,20), edgecolor='black', linewidth=0.3, column='Total_K-12_block', cmap='magma_r', k=50, legend=True)\n",
    "ctx.add_basemap(ax)"
   ]
  },
  {
   "cell_type": "markdown",
   "metadata": {},
   "source": [
    "## Linear Regression part"
   ]
  },
  {
   "cell_type": "code",
   "execution_count": null,
   "metadata": {
    "pycharm": {
     "name": "#%%\n"
    }
   },
   "outputs": [],
   "source": [
    "Condominium_bedroom_block = merged[(merged[\"PropertyUse\"] == \"Condominium\") | (merged[\"PropertyUse\"] == \"2 unit Apartment\")\n",
    "                                   | (merged[\"PropertyUse\"] == \"3 unit Apartment\") | (merged[\"PropertyUse\"] == \"4 unit Apartment\")\n",
    "                                   | (merged[\"PropertyUse\"] == \"5 unit Apartment\") | (merged[\"PropertyUse\"] == \"6 unit Apartment\")\n",
    "                                   | (merged[\"PropertyUse\"] == \"7 unit Apartment\")]\n",
    "Condominium_bedroom_block = Condominium_bedroom_block[[\"Area\", \"Address\", \"PropertyUse\", \"Bedrooms\", \"Total_K-12_block\", \"GEO_ID\", \"BlockBedrooms\", \"geometry\", \"area\"]]\n",
    "Condominium_bedroom_block[\"Apartment_bedroom\"] = Condominium_bedroom_block.groupby(['GEO_ID']).Bedrooms.transform('sum')\n",
    "Condominium_bedroom_block[\"other_bedroom\"] = Condominium_bedroom_block[\"BlockBedrooms\"] - Condominium_bedroom_block[\"Apartment_bedroom\"]\n",
    "Condominium_bedroom_block = Condominium_bedroom_block.drop_duplicates(\"GEO_ID\")\n",
    "Condominium_bedroom_block = Condominium_bedroom_block[[\"GEO_ID\", \"Apartment_bedroom\", \"other_bedroom\"]]\n",
    "total_bedroom_block = merged[[\"GEO_ID\", \"BlockBedrooms\", \"Total_K-12_block\", \"geometry\", \"area\"]]\n",
    "total_bedroom_block = total_bedroom_block.drop_duplicates(\"GEO_ID\")\n",
    "result = total_bedroom_block.merge(Condominium_bedroom_block, on=\"GEO_ID\", how = \"outer\")\n",
    "result[\"Apartment_bedroom\"].fillna(0, inplace=True)\n",
    "result[\"other_bedroom\"].fillna(result[\"BlockBedrooms\"], inplace=True)\n",
    "result"
   ]
  },
  {
   "cell_type": "code",
   "execution_count": null,
   "metadata": {
    "pycharm": {
     "name": "#%%\n"
    }
   },
   "outputs": [],
   "source": [
    "xcol = [\"Apartment_bedroom\", \"other_bedroom\"]\n",
    "model1 = Pipeline([\n",
    "            (\"lr\", LinearRegression())\n",
    "        ])\n",
    "model1.fit(result[xcol], result[\"Total_K-12_block\"])\n",
    "\n",
    "idx = [t.replace(\"_\", \" \") for t in xcol]\n",
    "ax3 = pd.Series(model1[\"lr\"].coef_, index=idx).plot.barh()\n",
    "ax3.set_xlabel(\"Weight\")\n",
    "ax3.set_ylabel(\"Feature\")\n",
    "ax3.spines[\"top\"].set_visible(False)\n",
    "ax3.spines[\"right\"].set_visible(False)\n",
    "ax3.set_title(\"Linear Regression Coefficients\", pad=20)"
   ]
  },
  {
   "cell_type": "markdown",
   "metadata": {},
   "source": [
    "## Top 20 apartments table"
   ]
  },
  {
   "cell_type": "code",
   "execution_count": null,
   "metadata": {
    "pycharm": {
     "name": "#%%\n"
    }
   },
   "outputs": [],
   "source": [
    "Top_20 = K12_df\n",
    "Top_20 = Top_20[(Top_20[\"PropertyUse\"] == \"Condominium\") | (Top_20[\"PropertyUse\"] == \"2 unit Apartment\")\n",
    "                                   | (Top_20[\"PropertyUse\"] == \"3 unit Apartment\") | (Top_20[\"PropertyUse\"] == \"4 unit Apartment\")\n",
    "                                   | (Top_20[\"PropertyUse\"] == \"5 unit Apartment\") | (Top_20[\"PropertyUse\"] == \"6 unit Apartment\")\n",
    "                                   | (Top_20[\"PropertyUse\"] == \"7 unit Apartment\")]\n",
    "Top_20[\"Apartment_bedrooms\"] = Top_20.groupby([\"XCoord\", \"YCoord\"]).Bedrooms.transform(sum)\n",
    "Top_20 = Top_20.drop_duplicates(\"geometry\")\n",
    "Top_20 = Top_20.sort_values(by=['K-12_by_point'], ascending=False)\n",
    "Top_20 = Top_20[:20]\n",
    "Top_20 = Top_20[[\"Area\", \"Address\", \"geometry\", \"Apartment_bedrooms\", \"K-12_by_point\"]]\n",
    "Top_20.to_csv(\"Top20_Apartments.csv\", index = False)"
   ]
  },
  {
   "cell_type": "markdown",
   "metadata": {},
   "source": [
    "## Plots"
   ]
  },
  {
   "cell_type": "markdown",
   "metadata": {},
   "source": [
    "#### cumulative children live in apartments"
   ]
  },
  {
   "cell_type": "code",
   "execution_count": null,
   "metadata": {
    "pycharm": {
     "name": "#%%\n"
    }
   },
   "outputs": [],
   "source": [
    "Buildings = K12_df[[\"GEO_ID\", \"PropertyUse\", \"geometry\", \"Area\", \"K-12_by_point\"]]\n",
    "Buildings = Buildings[(Buildings[\"PropertyUse\"] == \"Condominium\") | (Buildings[\"PropertyUse\"] == \"2 unit Apartment\")\n",
    "                                   | (Buildings[\"PropertyUse\"] == \"3 unit Apartment\") | (Buildings[\"PropertyUse\"] == \"4 unit Apartment\")\n",
    "                                   | (Buildings[\"PropertyUse\"] == \"5 unit Apartment\") | (Buildings[\"PropertyUse\"] == \"6 unit Apartment\")\n",
    "                                   | (Buildings[\"PropertyUse\"] == \"7 unit Apartment\")]\n",
    "Buildings = Buildings.drop_duplicates(\"geometry\")\n",
    "Buildings = Buildings.sort_values(by=['K-12_by_point'], ascending=False)\n",
    "K12_data = np.array(Buildings[\"K-12_by_point\"].tolist())\n",
    "plt.plot(K12_data.cumsum())\n",
    "plt.axis('tight')\n",
    "plt.title(\"cumulative children live in apartments\", pad=30)\n",
    "plt.xlabel(\"Number of apartments\")\n",
    "plt.ylabel(\"Number of K-12 students\")\n",
    "plt.show()\n",
    "\n"
   ]
  },
  {
   "cell_type": "markdown",
   "metadata": {
    "pycharm": {
     "name": "#%% md\n"
    }
   },
   "source": [
    "## Use the linear regression coef to improve the estimate\n"
   ]
  },
  {
   "cell_type": "code",
   "execution_count": null,
   "metadata": {
    "pycharm": {
     "name": "#%%\n"
    }
   },
   "outputs": [],
   "source": [
    "total = model1[\"lr\"].coef_[0] + model1[\"lr\"].coef_[1]\n",
    "apt_pro = model1[\"lr\"].coef_[0]\n",
    "house_pro = model1[\"lr\"].coef_[1]\n",
    "\n",
    "result[\"K12_in_apt\"] = result[\"Total_K-12_block\"] / (result[\"other_bedroom\"] + result[\"Apartment_bedroom\"]\n",
    "                                                     * (apt_pro/house_pro)) * (result[\"Apartment_bedroom\"]\n",
    "                                                                               * (apt_pro/house_pro))\n",
    "result[\"K12_in_other\"] = result[\"Total_K-12_block\"] - result[\"K12_in_apt\"]\n",
    "result['apt_density'] = result['K12_in_apt'] / result['area']\n",
    "result['other_density'] = result['K12_in_other'] / result['area']\n",
    "result.head()"
   ]
  },
  {
   "cell_type": "code",
   "execution_count": null,
   "metadata": {},
   "outputs": [],
   "source": [
    "lake_df = gpd.read_file(\"lakes.zip\")\n",
    "lake_df.plot(color=\"lightblue\")"
   ]
  },
  {
   "cell_type": "markdown",
   "metadata": {
    "pycharm": {
     "name": "#%% md\n"
    }
   },
   "source": [
    "### The density plot of k12 in apartment"
   ]
  },
  {
   "cell_type": "code",
   "execution_count": null,
   "metadata": {
    "pycharm": {
     "name": "#%%\n"
    }
   },
   "outputs": [],
   "source": [
    "result = gpd.GeoDataFrame(result)\n",
    "lake_df = lake_df.to_crs(result.crs)\n",
    "apartment_madison = gpd.sjoin(result, dane, how=\"right\", op=\"within\")\n",
    "# apartment_madison = apartment_madison.to_crs(epsg=3857)\n",
    "ax = apartment_madison.plot(figsize=(20,20), column='apt_density', cmap='magma_r', k=50, legend=True)\n",
    "lake_df.plot(ax=ax,color=\"lightblue\")"
   ]
  },
  {
   "cell_type": "markdown",
   "metadata": {
    "pycharm": {
     "name": "#%% md\n"
    }
   },
   "source": [
    "### The density plot of k12 in other house"
   ]
  },
  {
   "cell_type": "code",
   "execution_count": null,
   "metadata": {
    "pycharm": {
     "name": "#%%\n"
    }
   },
   "outputs": [],
   "source": [
    "result = gpd.GeoDataFrame(result)\n",
    "apartment_madison = gpd.sjoin(result, dane, how=\"right\", op=\"within\")\n",
    "ax = apartment_madison.plot(figsize=(20,20), column='other_density', cmap='magma_r', k=50, legend=True)\n",
    "lake_df.plot(ax=ax,color=\"lightblue\")"
   ]
  },
  {
   "cell_type": "markdown",
   "metadata": {},
   "source": [
    "## Properties That May Have K-12 Kids (by estimation)"
   ]
  },
  {
   "cell_type": "code",
   "execution_count": null,
   "metadata": {
    "pycharm": {
     "name": "#%%\n"
    }
   },
   "outputs": [],
   "source": [
    "K12_df = K12_df.to_crs(epsg=3857)\n",
    "ax_k12 = K12_df.plot(markersize=0.1, figsize=(20,20), color=\"red\")\n",
    "ax2 = ctx.add_basemap(ax_k12)"
   ]
  },
  {
   "cell_type": "markdown",
   "metadata": {},
   "source": [
    "## Makersize Represented by the Number of K-12 Kids (by estimation)"
   ]
  },
  {
   "cell_type": "code",
   "execution_count": null,
   "metadata": {
    "pycharm": {
     "name": "#%%\n"
    }
   },
   "outputs": [],
   "source": [
    "ax_k12_with_size = K12_df.plot(markersize=K12_df[\"K-12_by_point\"]/10, figsize=(20,20), color=\"red\")\n",
    "ax3 = ctx.add_basemap(ax_k12_with_size)"
   ]
  },
  {
   "cell_type": "markdown",
   "metadata": {},
   "source": [
    "## All Residential Properties in City of Madison"
   ]
  },
  {
   "cell_type": "code",
   "execution_count": null,
   "metadata": {
    "pycharm": {
     "name": "#%%\n"
    }
   },
   "outputs": [],
   "source": [
    "df = df.to_crs(epsg=3857)\n",
    "ax = df.plot(markersize=0.1, figsize=(20,20))\n",
    "\n",
    "ctx.add_basemap(ax)"
   ]
  }
 ],
 "metadata": {
  "kernelspec": {
   "display_name": "Python 3",
   "language": "python",
   "name": "python3"
  },
  "language_info": {
   "codemirror_mode": {
    "name": "ipython",
    "version": 3
   },
   "file_extension": ".py",
   "mimetype": "text/x-python",
   "name": "python",
   "nbconvert_exporter": "python",
   "pygments_lexer": "ipython3",
   "version": "3.8.3"
  }
 },
 "nbformat": 4,
 "nbformat_minor": 1
}
